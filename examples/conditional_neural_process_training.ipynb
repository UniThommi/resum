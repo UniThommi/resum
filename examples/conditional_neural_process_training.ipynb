{
 "cells": [
  {
   "cell_type": "markdown",
   "metadata": {},
   "source": [
    "# Conditional Neural Processes (CNP).\n",
    "[Conditional Neural Processes](https://arxiv.org/pdf/1807.01613.pdf) (CNPs) were\n",
    "introduced as a continuation of\n",
    "[Generative Query Networks](https://deepmind.com/blog/neural-scene-representation-and-rendering/)\n",
    "(GQN) to extend its training regime to tasks beyond scene rendering, e.g. to\n",
    "regression and classification."
   ]
  },
  {
   "cell_type": "code",
   "execution_count": 1,
   "metadata": {},
   "outputs": [],
   "source": [
    "import torch\n",
    "import torch.nn as nn\n",
    "import torch.optim as optim\n",
    "import matplotlib.pyplot as plt\n",
    "import datetime\n",
    "import numpy as np\n",
    "import os\n",
    "from resum.utilities import plotting_utils_cnp as plotting\n",
    "from resum.utilities import utilities as utils\n",
    "from resum.conditional_neural_process import DataGeneration\n",
    "from resum.conditional_neural_process import DeterministicModel\n",
    "import yaml"
   ]
  },
  {
   "cell_type": "code",
   "execution_count": 3,
   "metadata": {},
   "outputs": [],
   "source": [
    "with open(\"./L1000NC/settings.yaml\", \"r\") as f:\n",
    "    config_file = yaml.safe_load(f)\n",
    "\n",
    "TRAINING_EPOCHS = int(config_file[\"cnp_settings\"][\"training_epochs\"]) # Total number of training points: training_iterations * batch_size * max_content_points\n",
    "PLOT_AFTER = int(config_file[\"cnp_settings\"][\"plot_after\"])\n",
    "torch.manual_seed(0)\n",
    "BATCH_SIZE = config_file[\"cnp_settings\"][\"batch_size\"]\n",
    "\n",
    "version_cnp= config_file[\"cnp_settings\"][\"version\"]\n",
    "version_lf= config_file[\"simulation_settings\"][\"version_lf\"]\n",
    "\n",
    "path_out = config_file[\"path_settings\"][\"path_out\"]\n",
    "f_out = config_file[\"path_settings\"][\"f_out\"]\n"
   ]
  },
  {
   "cell_type": "code",
   "execution_count": 4,
   "metadata": {},
   "outputs": [],
   "source": [
    "x_size, y_size = utils.get_feature_and_label_size(config_file)"
   ]
  },
  {
   "cell_type": "code",
   "execution_count": 5,
   "metadata": {},
   "outputs": [
    {
     "ename": "TypeError",
     "evalue": "Caught TypeError in DataLoader worker process 0.\nOriginal Traceback (most recent call last):\n  File \"/global/homes/t/tbuerger/code/venvs/resum/lib/python3.9/site-packages/torch/utils/data/_utils/worker.py\", line 349, in _worker_loop\n    data = fetcher.fetch(index)  # type: ignore[possibly-undefined]\n  File \"/global/homes/t/tbuerger/code/venvs/resum/lib/python3.9/site-packages/torch/utils/data/_utils/fetch.py\", line 42, in fetch\n    data = next(self.dataset_iter)\n  File \"/global/u2/t/tbuerger/code/neuralNet/resum/resum/conditional_neural_process/data_generator.py\", line 123, in __iter__\n    target=hdf[self.parameters['target']['key']][start_idx:end_idx, self.target_selected_indices]\n  File \"h5py/_objects.pyx\", line 54, in h5py._objects.with_phil.wrapper\n  File \"h5py/_objects.pyx\", line 55, in h5py._objects.with_phil.wrapper\n  File \"/global/homes/t/tbuerger/code/venvs/resum/lib/python3.9/site-packages/h5py/_hl/dataset.py\", line 875, in __getitem__\n    selection = sel.select(self.shape, args, dataset=self)\n  File \"/global/homes/t/tbuerger/code/venvs/resum/lib/python3.9/site-packages/h5py/_hl/selections.py\", line 82, in select\n    return selector.make_selection(args)\n  File \"h5py/_selector.pyx\", line 282, in h5py._selector.Selector.make_selection\n  File \"h5py/_selector.pyx\", line 181, in h5py._selector.Selector.apply_args\nTypeError: Selection can't process [array([0, 1, 2])]\n",
     "output_type": "error",
     "traceback": [
      "\u001b[0;31m---------------------------------------------------------------------------\u001b[0m",
      "\u001b[0;31mTypeError\u001b[0m                                 Traceback (most recent call last)",
      "Cell \u001b[0;32mIn[5], line 30\u001b[0m\n\u001b[1;32m     27\u001b[0m data_iter \u001b[38;5;241m=\u001b[39m \u001b[38;5;28miter\u001b[39m(dataloader_test)\n\u001b[1;32m     28\u001b[0m it_batch \u001b[38;5;241m=\u001b[39m \u001b[38;5;241m0\u001b[39m\n\u001b[0;32m---> 30\u001b[0m \u001b[38;5;28;01mfor\u001b[39;00m b, batch \u001b[38;5;129;01min\u001b[39;00m \u001b[38;5;28menumerate\u001b[39m(dataloader_train):\n\u001b[1;32m     31\u001b[0m     batch_formated\u001b[38;5;241m=\u001b[39mdataset_train\u001b[38;5;241m.\u001b[39mformat_batch_for_cnp(batch,config_file[\u001b[38;5;124m\"\u001b[39m\u001b[38;5;124mcnp_settings\u001b[39m\u001b[38;5;124m\"\u001b[39m][\u001b[38;5;124m\"\u001b[39m\u001b[38;5;124mcontext_is_subset\u001b[39m\u001b[38;5;124m\"\u001b[39m] )\n\u001b[1;32m     32\u001b[0m     \u001b[38;5;66;03m# Get the predicted mean and variance at the target points for the testing set\u001b[39;00m\n",
      "File \u001b[0;32m~/code/venvs/resum/lib/python3.9/site-packages/torch/utils/data/dataloader.py:708\u001b[0m, in \u001b[0;36m_BaseDataLoaderIter.__next__\u001b[0;34m(self)\u001b[0m\n\u001b[1;32m    705\u001b[0m \u001b[38;5;28;01mif\u001b[39;00m \u001b[38;5;28mself\u001b[39m\u001b[38;5;241m.\u001b[39m_sampler_iter \u001b[38;5;129;01mis\u001b[39;00m \u001b[38;5;28;01mNone\u001b[39;00m:\n\u001b[1;32m    706\u001b[0m     \u001b[38;5;66;03m# TODO(https://github.com/pytorch/pytorch/issues/76750)\u001b[39;00m\n\u001b[1;32m    707\u001b[0m     \u001b[38;5;28mself\u001b[39m\u001b[38;5;241m.\u001b[39m_reset()  \u001b[38;5;66;03m# type: ignore[call-arg]\u001b[39;00m\n\u001b[0;32m--> 708\u001b[0m data \u001b[38;5;241m=\u001b[39m \u001b[38;5;28;43mself\u001b[39;49m\u001b[38;5;241;43m.\u001b[39;49m\u001b[43m_next_data\u001b[49m\u001b[43m(\u001b[49m\u001b[43m)\u001b[49m\n\u001b[1;32m    709\u001b[0m \u001b[38;5;28mself\u001b[39m\u001b[38;5;241m.\u001b[39m_num_yielded \u001b[38;5;241m+\u001b[39m\u001b[38;5;241m=\u001b[39m \u001b[38;5;241m1\u001b[39m\n\u001b[1;32m    710\u001b[0m \u001b[38;5;28;01mif\u001b[39;00m (\n\u001b[1;32m    711\u001b[0m     \u001b[38;5;28mself\u001b[39m\u001b[38;5;241m.\u001b[39m_dataset_kind \u001b[38;5;241m==\u001b[39m _DatasetKind\u001b[38;5;241m.\u001b[39mIterable\n\u001b[1;32m    712\u001b[0m     \u001b[38;5;129;01mand\u001b[39;00m \u001b[38;5;28mself\u001b[39m\u001b[38;5;241m.\u001b[39m_IterableDataset_len_called \u001b[38;5;129;01mis\u001b[39;00m \u001b[38;5;129;01mnot\u001b[39;00m \u001b[38;5;28;01mNone\u001b[39;00m\n\u001b[1;32m    713\u001b[0m     \u001b[38;5;129;01mand\u001b[39;00m \u001b[38;5;28mself\u001b[39m\u001b[38;5;241m.\u001b[39m_num_yielded \u001b[38;5;241m>\u001b[39m \u001b[38;5;28mself\u001b[39m\u001b[38;5;241m.\u001b[39m_IterableDataset_len_called\n\u001b[1;32m    714\u001b[0m ):\n",
      "File \u001b[0;32m~/code/venvs/resum/lib/python3.9/site-packages/torch/utils/data/dataloader.py:1480\u001b[0m, in \u001b[0;36m_MultiProcessingDataLoaderIter._next_data\u001b[0;34m(self)\u001b[0m\n\u001b[1;32m   1478\u001b[0m \u001b[38;5;28;01mdel\u001b[39;00m \u001b[38;5;28mself\u001b[39m\u001b[38;5;241m.\u001b[39m_task_info[idx]\n\u001b[1;32m   1479\u001b[0m \u001b[38;5;28mself\u001b[39m\u001b[38;5;241m.\u001b[39m_rcvd_idx \u001b[38;5;241m+\u001b[39m\u001b[38;5;241m=\u001b[39m \u001b[38;5;241m1\u001b[39m\n\u001b[0;32m-> 1480\u001b[0m \u001b[38;5;28;01mreturn\u001b[39;00m \u001b[38;5;28;43mself\u001b[39;49m\u001b[38;5;241;43m.\u001b[39;49m\u001b[43m_process_data\u001b[49m\u001b[43m(\u001b[49m\u001b[43mdata\u001b[49m\u001b[43m)\u001b[49m\n",
      "File \u001b[0;32m~/code/venvs/resum/lib/python3.9/site-packages/torch/utils/data/dataloader.py:1505\u001b[0m, in \u001b[0;36m_MultiProcessingDataLoaderIter._process_data\u001b[0;34m(self, data)\u001b[0m\n\u001b[1;32m   1503\u001b[0m \u001b[38;5;28mself\u001b[39m\u001b[38;5;241m.\u001b[39m_try_put_index()\n\u001b[1;32m   1504\u001b[0m \u001b[38;5;28;01mif\u001b[39;00m \u001b[38;5;28misinstance\u001b[39m(data, ExceptionWrapper):\n\u001b[0;32m-> 1505\u001b[0m     \u001b[43mdata\u001b[49m\u001b[38;5;241;43m.\u001b[39;49m\u001b[43mreraise\u001b[49m\u001b[43m(\u001b[49m\u001b[43m)\u001b[49m\n\u001b[1;32m   1506\u001b[0m \u001b[38;5;28;01mreturn\u001b[39;00m data\n",
      "File \u001b[0;32m~/code/venvs/resum/lib/python3.9/site-packages/torch/_utils.py:733\u001b[0m, in \u001b[0;36mExceptionWrapper.reraise\u001b[0;34m(self)\u001b[0m\n\u001b[1;32m    729\u001b[0m \u001b[38;5;28;01mexcept\u001b[39;00m \u001b[38;5;167;01mTypeError\u001b[39;00m:\n\u001b[1;32m    730\u001b[0m     \u001b[38;5;66;03m# If the exception takes multiple arguments, don't try to\u001b[39;00m\n\u001b[1;32m    731\u001b[0m     \u001b[38;5;66;03m# instantiate since we don't know how to\u001b[39;00m\n\u001b[1;32m    732\u001b[0m     \u001b[38;5;28;01mraise\u001b[39;00m \u001b[38;5;167;01mRuntimeError\u001b[39;00m(msg) \u001b[38;5;28;01mfrom\u001b[39;00m\u001b[38;5;250m \u001b[39m\u001b[38;5;28;01mNone\u001b[39;00m\n\u001b[0;32m--> 733\u001b[0m \u001b[38;5;28;01mraise\u001b[39;00m exception\n",
      "\u001b[0;31mTypeError\u001b[0m: Caught TypeError in DataLoader worker process 0.\nOriginal Traceback (most recent call last):\n  File \"/global/homes/t/tbuerger/code/venvs/resum/lib/python3.9/site-packages/torch/utils/data/_utils/worker.py\", line 349, in _worker_loop\n    data = fetcher.fetch(index)  # type: ignore[possibly-undefined]\n  File \"/global/homes/t/tbuerger/code/venvs/resum/lib/python3.9/site-packages/torch/utils/data/_utils/fetch.py\", line 42, in fetch\n    data = next(self.dataset_iter)\n  File \"/global/u2/t/tbuerger/code/neuralNet/resum/resum/conditional_neural_process/data_generator.py\", line 123, in __iter__\n    target=hdf[self.parameters['target']['key']][start_idx:end_idx, self.target_selected_indices]\n  File \"h5py/_objects.pyx\", line 54, in h5py._objects.with_phil.wrapper\n  File \"h5py/_objects.pyx\", line 55, in h5py._objects.with_phil.wrapper\n  File \"/global/homes/t/tbuerger/code/venvs/resum/lib/python3.9/site-packages/h5py/_hl/dataset.py\", line 875, in __getitem__\n    selection = sel.select(self.shape, args, dataset=self)\n  File \"/global/homes/t/tbuerger/code/venvs/resum/lib/python3.9/site-packages/h5py/_hl/selections.py\", line 82, in select\n    return selector.make_selection(args)\n  File \"h5py/_selector.pyx\", line 282, in h5py._selector.Selector.make_selection\n  File \"h5py/_selector.pyx\", line 181, in h5py._selector.Selector.apply_args\nTypeError: Selection can't process [array([0, 1, 2])]\n"
     ]
    }
   ],
   "source": [
    "d_x, d_in, representation_size, d_out = x_size , x_size+y_size, 32, y_size*2\n",
    "encoder_sizes = [d_in, 32, 64, 128, 128, 128, 64, 48, representation_size]\n",
    "decoder_sizes = [representation_size + d_x, 32, 64, 128, 128, 128, 64, 48, d_out]\n",
    "\n",
    "model = DeterministicModel(encoder_sizes, decoder_sizes)\n",
    "\n",
    "optimizer = optim.Adam(model.parameters(), lr=1e-4)\n",
    "#optimizer = torch.optim.SGD(model.parameters(), lr=0.0001, momentum=0.9)\n",
    "# \n",
    "\n",
    "bce = nn.BCELoss()\n",
    "iter_testing = 0\n",
    "\n",
    "# create a PdfPages object\n",
    "test_idx=0\n",
    "for it_epoch in range(TRAINING_EPOCHS):\n",
    "    \n",
    "    USE_DATA_AUGMENTATION = config_file[\"cnp_settings\"][\"use_data_augmentation\"]\n",
    "    # load data:\n",
    "    dataset_train = DataGeneration(mode = \"training\", config_file=config_file, path_to_files=config_file[\"path_settings\"][\"path_to_training_files\"], use_data_augmentation=USE_DATA_AUGMENTATION, batch_size=BATCH_SIZE)\n",
    "    dataset_train.set_loader()\n",
    "    dataloader_train = dataset_train.dataloader\n",
    "\n",
    "    dataset_test = DataGeneration(mode = \"training\", config_file=config_file, path_to_files=config_file[\"path_settings\"][\"path_to_training_files\"], use_data_augmentation=False, batch_size=BATCH_SIZE)\n",
    "    dataset_test.set_loader()\n",
    "    dataloader_test = dataset_test.dataloader\n",
    "    data_iter = iter(dataloader_test)\n",
    "    it_batch = 0\n",
    "\n",
    "    for b, batch in enumerate(dataloader_train):\n",
    "        batch_formated=dataset_train.format_batch_for_cnp(batch,config_file[\"cnp_settings\"][\"context_is_subset\"] )\n",
    "        # Get the predicted mean and variance at the target points for the testing set\n",
    "        log_prob, mu, _ = model(batch_formated.query, batch_formated.target_y)\n",
    "        \n",
    "        # Define the loss\n",
    "        loss = -log_prob.mean()\n",
    "        loss.backward()\n",
    "\n",
    "        # Perform gradient descent to update parameters\n",
    "        optimizer.step()\n",
    "    \n",
    "        # reset gradient to 0 on all parameters\n",
    "        optimizer.zero_grad()\n",
    "        \n",
    "        #if max(mu[0].detach().numpy()) <= 1 and min(mu[0].detach().numpy()) >= 0:\n",
    "        loss_bce = bce(mu, batch_formated.target_y)\n",
    "        #else:\n",
    "        #    loss_bce = -1.\n",
    "        \n",
    "        mu=mu[0].detach().numpy()\n",
    "        \n",
    "        if it_batch % 50 == 0:\n",
    "            print('{} Iteration: {}/{}, train loss: {:.4f} (vs BCE {:.4f})'.format(datetime.datetime.now().strftime(\"%Y-%m-%d %H:%M:%S\"),it_epoch, it_batch,loss, loss_bce))\n",
    "            batch_testing = next(data_iter)\n",
    "            batch_formated_test=dataset_train.format_batch_for_cnp(batch_testing,config_file[\"cnp_settings\"][\"context_is_subset\"] )\n",
    "            \n",
    "            log_prob_testing, mu_testing, _ = model(batch_formated_test.query, batch_formated_test.target_y)\n",
    "            loss_testing = -log_prob_testing.mean()\n",
    "            test_idx+=1\n",
    "\n",
    "            #if max(mu_testing[0].detach().numpy()) <= 1 and min(mu_testing[0].detach().numpy()) >= 0:\n",
    "            loss_bce_testing = bce(mu_testing,  batch_formated_test.target_y)\n",
    "            #else:\n",
    "            #    loss_bce_testing = -1.\n",
    "\n",
    "            mu_testing=mu_testing[0].detach().numpy()\n",
    "            print(\"{}, Iteration: {}, test loss: {:.4f} (vs BCE {:.4f})\".format(datetime.datetime.now().strftime(\"%Y-%m-%d %H:%M:%S\"), it_batch, loss_testing, loss_bce_testing))\n",
    "            if y_size ==1:\n",
    "                fig = plotting.plot(mu, batch_formated_test.target_y[0].detach().numpy(), f'{loss:.2f}', mu_testing, batch_formated_test.target_y[0].detach().numpy(), f'{loss_testing:.2f}', it_batch)\n",
    "            else:\n",
    "                for k in range(y_size):\n",
    "                    fig = plotting.plot(mu[:,k], batch_formated.target_y[0].detach().numpy()[:,k], f'{loss:.2f}', mu_testing[:,k], batch_formated_test.target_y[0].detach().numpy()[:,k], f'{loss_testing:.2f}', it_batch)\n",
    "\n",
    "        it_batch+=1\n",
    "\n",
    "torch.save(model.state_dict(), f'{path_out}/{f_out}_model.pth')"
   ]
  }
 ],
 "metadata": {
  "kernelspec": {
   "display_name": "resum",
   "language": "python",
   "name": "python3"
  },
  "language_info": {
   "codemirror_mode": {
    "name": "ipython",
    "version": 3
   },
   "file_extension": ".py",
   "mimetype": "text/x-python",
   "name": "python",
   "nbconvert_exporter": "python",
   "pygments_lexer": "ipython3",
   "version": "3.9.18"
  }
 },
 "nbformat": 4,
 "nbformat_minor": 2
}
